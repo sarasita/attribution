{
 "cells": [
  {
   "cell_type": "code",
   "execution_count": 2,
   "metadata": {},
   "outputs": [],
   "source": [
    "from pathlib import Path\n",
    "\n",
    "import pandas as pd \n",
    "import numpy as np\n",
    "import xarray as xr\n",
    "\n",
    "from tqdm.notebook import tqdm\n",
    "\n",
    "import config.config as cfg \n",
    "from config.config import (PROCESSED_GMT_FILE,\n",
    "                           GRAPHICS_DIR, GRAPHICS_PAPER_MAIN_DIR, GRAPHICS_PAPER_APPENDIX_DIR, \n",
    "                           RESULTS_DIR,\n",
    "                           )\n",
    "from utils.plotting_functions import lighten_color\n",
    "from utils.processing_functions import regional_data, abbrevs\n",
    "\n",
    "import regionmask \n",
    "ar6 = regionmask.defined_regions.ar6.land\n"
   ]
  },
  {
   "cell_type": "code",
   "execution_count": 3,
   "metadata": {},
   "outputs": [],
   "source": [
    "# introducde 'hottest' month\n",
    "idx_month = np.load(RESULTS_DIR / 'tas_hottest_month.npy')"
   ]
  },
  {
   "cell_type": "code",
   "execution_count": 4,
   "metadata": {},
   "outputs": [],
   "source": [
    "var_property = 'frequency'\n",
    "var_name = 'tas'\n",
    "extreme_type = 'hot'\n",
    "df = xr.open_dataset(RESULTS_DIR / f'{var_name}_{var_property}_{extreme_type}.nc').stack(coords = ('lat', 'lon')).dropna('coords', how = 'all').isel(extreme_quantile = 1)"
   ]
  },
  {
   "cell_type": "code",
   "execution_count": 5,
   "metadata": {},
   "outputs": [],
   "source": [
    "processed_extremes_frequency_df = pd.DataFrame(columns =  ['emitter_region', 'emitter_group', 'event_defintion', 'variable', 'month', 'impacted_region_id', 'impacted_region_abbrev', 'quantile', 'events'])\n",
    "\n",
    "var_names = ['tas', 'spei', 'spi']\n",
    "var_property = 'frequency'\n",
    "for var_name in var_names: \n",
    "    if var_name == 'tas': \n",
    "        extreme_type = 'hot'\n",
    "    else:\n",
    "        extreme_type = 'dry'\n",
    "    df = xr.open_dataset(RESULTS_DIR / f'{var_name}_{var_property}_{extreme_type}.nc').stack(coords = ('lat', 'lon')).dropna('coords', how = 'all').isel(extreme_quantile = 1)\n",
    "    attributed_additional = np.moveaxis([df[f'attributed_{var_name}'].values[:, :, :, m, i] for i,m in enumerate(idx_month)], [0,1,2,3], [3,0,1,2])\n",
    "    hist_additional = np.moveaxis([df[f'1990_{var_name}'].values[:, m, i] for i,m in enumerate(idx_month)], [0,1], [1,0])\n",
    "    presentday_additional = np.moveaxis([df[f'presentday_{var_name}'].values[:, m, i] for i,m in enumerate(idx_month)], [0,1], [1,0])\n",
    "    df_additional = xr.Dataset(data_vars = {f'attributed_{var_name}': (('region', 'group', 'model', 'coords'), attributed_additional),\n",
    "                                            f'1990_{var_name}': (('model', 'coords'), hist_additional),\n",
    "                                            f'presentday_{var_name}': (('model', 'coords'), presentday_additional)\n",
    "                                            },\n",
    "                            coords = {'region': df.region,\n",
    "                                        'group': df.group,\n",
    "                                        'model': df.model,\n",
    "                                        'coords': df['coords']}\n",
    "                            ).expand_dims(month = ['A'])\n",
    "\n",
    "    df = xr.concat([df, df_additional], dim = 'month')\n",
    "    df_agg = regional_data(df).quantile(q = [0.05, 0.5, 0.95], dim = 'model')\n",
    "    del df \n",
    "    # additional events since 1990\n",
    "    df_tmp1 = df_agg[f'1990_{var_name}'].to_dataframe().reset_index().rename(columns = {'mask': 'impacted_region_id', f'1990_{var_name}': 'events'})\n",
    "    df_tmp1['emitter_region'] = 'World' \n",
    "    df_tmp1['emitter_group'] = 'all'\n",
    "    df_tmp1['event_defintion'] = '1-in-100'\n",
    "    df_tmp1['variable'] = var_name\n",
    "    df_tmp1['impacted_region_abbrev'] = df_tmp1['impacted_region_id'].apply(lambda x: abbrevs(x))\n",
    "    # additional attributable events since 1990 \n",
    "    df_tmp2 = df_agg[f'attributed_{var_name}'].to_dataframe().reset_index().rename(columns = {'mask': 'impacted_region_id', f'attributed_{var_name}': 'events', 'region': 'emitter_region', 'group': 'emitter_group'})\n",
    "    df_tmp2['event_defintion'] = '1-in-100'\n",
    "    df_tmp2['variable'] = var_name\n",
    "    df_tmp2['impacted_region_abbrev'] = df_tmp2['impacted_region_id'].apply(lambda x: abbrevs(x))\n",
    "\n",
    "    processed_extremes_frequency_df = pd.concat([processed_extremes_frequency_df, df_tmp1, df_tmp2], axis = 0, ignore_index = True)\n",
    "\n",
    "processed_extremes_frequency_df.to_csv(RESULTS_DIR / 'processed_extremes_frequency.csv', index = False)"
   ]
  },
  {
   "cell_type": "code",
   "execution_count": 6,
   "metadata": {},
   "outputs": [
    {
     "name": "stderr",
     "output_type": "stream",
     "text": [
      "/Users/schoens/opt/anaconda3/envs/py39_mesmer-m/lib/python3.9/site-packages/numpy/lib/nanfunctions.py:1577: RuntimeWarning: All-NaN slice encountered\n",
      "  result = np.apply_along_axis(_nanquantile_1d, axis, a, q,\n"
     ]
    }
   ],
   "source": [
    "processed_extremes_intensity_df = pd.DataFrame(columns =  ['emitter_region', 'emitter_group', 'event_defintion', 'variable', 'month', 'impacted_region_id', 'impacted_region_abbrev', 'quantile', 'change'])\n",
    "\n",
    "var_names = ['tas', 'spei', 'spi']\n",
    "var_property = 'intensity'\n",
    "for var_name in var_names: \n",
    "    if var_name == 'tas': \n",
    "        extreme_type = 'hot'\n",
    "    else:\n",
    "        extreme_type = 'dry'\n",
    "    df = xr.open_dataset(RESULTS_DIR / f'{var_name}_{var_property}_{extreme_type}.nc').stack(coords = ('lat', 'lon')).dropna('coords', how = 'all').isel(extreme_quantile = 1)\n",
    "    df_agg = regional_data(df).quantile(q = [0.05, 0.5, 0.95], dim = 'model')\n",
    "    del df \n",
    "    # additional events since 1990\n",
    "    df_tmp1 = df_agg[f'1990_{var_name}'].to_dataframe().reset_index().rename(columns = {'mask': 'impacted_region_id', f'1990_{var_name}': 'change'})\n",
    "    df_tmp1['emitter_region'] = 'World' \n",
    "    df_tmp1['emitter_group'] = 'all'\n",
    "    df_tmp1['event_defintion'] = '1-in-100'\n",
    "    df_tmp1['variable'] = var_name\n",
    "    df_tmp1['impacted_region_abbrev'] = df_tmp1['impacted_region_id'].apply(lambda x: abbrevs(x))\n",
    "    # additional attributable events since 1990 \n",
    "    df_tmp2 = df_agg[f'attributed_{var_name}'].to_dataframe().reset_index().rename(columns = {'mask': 'impacted_region_id', f'attributed_{var_name}': 'change', 'region': 'emitter_region', 'group': 'emitter_group'})\n",
    "    df_tmp2['event_defintion'] = '1-in-100'\n",
    "    df_tmp2['variable'] = var_name\n",
    "    df_tmp2['impacted_region_abbrev'] = df_tmp2['impacted_region_id'].apply(lambda x: abbrevs(x))\n",
    "\n",
    "    processed_extremes_intensity_df = pd.concat([processed_extremes_intensity_df, df_tmp1, df_tmp2], axis = 0, ignore_index = True)\n",
    "\n",
    "processed_extremes_intensity_df.to_csv(RESULTS_DIR / 'processed_extremes_intensity.csv', index = False)"
   ]
  }
 ],
 "metadata": {
  "kernelspec": {
   "display_name": "py39_mesmer-m",
   "language": "python",
   "name": "python3"
  },
  "language_info": {
   "codemirror_mode": {
    "name": "ipython",
    "version": 3
   },
   "file_extension": ".py",
   "mimetype": "text/x-python",
   "name": "python",
   "nbconvert_exporter": "python",
   "pygments_lexer": "ipython3",
   "version": "3.9.7"
  }
 },
 "nbformat": 4,
 "nbformat_minor": 2
}
