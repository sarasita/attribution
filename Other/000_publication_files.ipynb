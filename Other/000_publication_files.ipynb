{
 "cells": [
  {
   "cell_type": "code",
   "execution_count": 2,
   "metadata": {},
   "outputs": [],
   "source": [
    "from pathlib import Path\n",
    "\n",
    "import pandas as pd \n",
    "import numpy as np\n",
    "import xarray as xr\n",
    "import geopandas as gpd \n",
    "from shapely import box\n",
    "import pycountry\n",
    "\n",
    "from tqdm.notebook import tqdm\n",
    "\n",
    "import config.config as cfg \n",
    "from config.config import (PROCESSED_GMT_FILE,\n",
    "                           GRAPHICS_DIR, GRAPHICS_PAPER_MAIN_DIR, GRAPHICS_PAPER_APPENDIX_DIR, \n",
    "                           RESULTS_DIR,\n",
    "                           fontsize_medium,\n",
    "                           fontsize_small,\n",
    "                           fontsize_large, \n",
    "                           regions,\n",
    "                           region_naming_dict, \n",
    "                           population_shares, \n",
    "                           group_colors,\n",
    "                           uncertainty_color,\n",
    "                           sensitvitiy_color,\n",
    "                           symbols,\n",
    "                           EU27_ids\n",
    "                           )\n",
    "from utils.plotting_functions import lighten_color\n",
    "\n",
    "import matplotlib.pylab as pl\n",
    "import matplotlib.pyplot as plt\n",
    "import seaborn as sns\n",
    "import matplotlib\n",
    "from matplotlib import colormaps as cmaps\n",
    "from mpl_toolkits.axes_grid1 import make_axes_locatable\n",
    "import cartopy.crs as ccrs\n",
    "from matplotlib.gridspec import GridSpec\n",
    "from matplotlib.colors import ListedColormap, LinearSegmentedColormap, to_rgba\n",
    "import matplotlib.colors as cm\n",
    "\n",
    "from tabulate import tabulate\n",
    "\n",
    "from itertools import product\n",
    "\n",
    "plt.rcParams['svg.fonttype'] = 'none'"
   ]
  },
  {
   "cell_type": "code",
   "execution_count": null,
   "metadata": {},
   "outputs": [],
   "source": [
    "tas_frequency_df = xr.open_dataset(RESULTS_DIR / 'tas_frequency_hot.nc').stack(coords = ('lat', 'lon')).dropna('coords', how = 'all')\n",
    "spei_frequency_df = xr.open_dataset(RESULTS_DIR / 'spei_frequency_dry.nc').stack(coords = ('lat', 'lon')).dropna('coords', how = 'all')\n",
    "tas_intensity_df = xr.open_dataset(RESULTS_DIR / 'tas_intensity_hot.nc').stack(coords = ('lat', 'lon')).dropna('coords', how = 'all')\n",
    "spei_intensity_df = xr.open_dataset(RESULTS_DIR / 'spei_intensity_dry.nc').stack(coords = ('lat', 'lon')).dropna('coords', how = 'all')"
   ]
  },
  {
   "cell_type": "code",
   "execution_count": 8,
   "metadata": {},
   "outputs": [],
   "source": [
    "tas_frequency_df = xr.open_dataset(RESULTS_DIR / 'tas_frequency_hot.nc')\n",
    "tas_frequency_df['attributed_tas'] = tas_frequency_df['attributed_tas'].assign_attrs({'description': 'Number of additonal heat events over 100 years attributable to the emissions of specific emitter groups', \n",
    "                                                                                      'units': 'days per 100 years'})\n",
    "tas_frequency_df['1990_tas'] = tas_frequency_df['1990_tas'].assign_attrs({'description': 'Number of additonal heat events over 100 years attributable to all cumulative emissions since 1990', \n",
    "                                                                                      'units': 'days per 100 years'})\n",
    "tas_frequency_df['region'] = tas_frequency_df['region'].assign_attrs({'description': 'Emitter regions (IN: India, CN: China)'})\n",
    "tas_frequency_df['group'] = tas_frequency_df['group'].assign_attrs({'description': 'Income groups (p90p100: top 10, p99p100: top 1)'})\n",
    "tas_frequency_df['model'] = tas_frequency_df['model'].assign_attrs({'description': 'CMIP6 model configuration from MESMER-M-TP'})\n",
    "tas_frequency_df['month'] = tas_frequency_df['month'].assign_attrs({'description': 'Impacts on heat events in specific months (0: January, 11: December)'})\n",
    "tas_frequency_df['extreme_quantile'] = tas_frequency_df['extreme_quantile'] .assign_attrs({'description': 'Event definition. (0.98: 1-in-50 year event, 0.99: 1-in-100 year event, 0.9999: 1-in-10000 year event)'})\n",
    "\n",
    "tas_frequency_df.to_netcdf(RESULTS_DIR / 'Publication' / 'Extremes' / 'tas_frequency_hot.nc')"
   ]
  },
  {
   "cell_type": "code",
   "execution_count": 10,
   "metadata": {},
   "outputs": [],
   "source": [
    "spei_frequency_df = xr.open_dataset(RESULTS_DIR / 'spei_frequency_dry.nc')\n",
    "spei_frequency_df['attributed_spei'] = spei_frequency_df['attributed_spei'].assign_attrs({'description': 'Number of additonal drought events over 100 years attributable to the emissions of specific emitter groups', \n",
    "                                                                                      'units': 'days per 100 years'})\n",
    "spei_frequency_df['1990_spei'] = spei_frequency_df['1990_spei'].assign_attrs({'description': 'Number of additonal drought events over 100 years attributable to all cumulative emissions since 1990', \n",
    "                                                                                      'units': 'days per 100 years'})\n",
    "spei_frequency_df['region'] = spei_frequency_df['region'].assign_attrs({'description': 'Emitter regions (IN: India, CN: China)'})\n",
    "spei_frequency_df['group'] = spei_frequency_df['group'].assign_attrs({'description': 'Income groups (p90p100: top 10, p99p100: top 1)'})\n",
    "spei_frequency_df['model'] = spei_frequency_df['model'].assign_attrs({'description': 'CMIP6 model configuration from MESMER-M-TP'})\n",
    "spei_frequency_df['month'] = spei_frequency_df['month'].assign_attrs({'description': 'Impacts on drought events in specific months (0: January, 11: December)'})\n",
    "spei_frequency_df['extreme_quantile'] = spei_frequency_df['extreme_quantile'] .assign_attrs({'description': 'Event definition. (0.02: 1-in-50 year event, 0.01: 1-in-100 year event, 0.0001: 1-in-10000 year event)'})\n",
    "\n",
    "spei_frequency_df.to_netcdf(RESULTS_DIR / 'Publication' / 'Extremes' / 'spei_frequency_dry.nc')"
   ]
  },
  {
   "cell_type": "code",
   "execution_count": 11,
   "metadata": {},
   "outputs": [],
   "source": [
    "tas_intensity_df = xr.open_dataset(RESULTS_DIR / 'tas_intensity_hot.nc')\n",
    "tas_intensity_df['attributed_tas'] = tas_intensity_df['attributed_tas'].assign_attrs({'description': 'Intensity increase of heat events attributable to the emissions of specific emitter groups', \n",
    "                                                                                      'units': '°C'})\n",
    "tas_intensity_df['1990_tas'] = tas_intensity_df['1990_tas'].assign_attrs({'description': 'Intensity increase of heat events attributable to all cumulative emissions since 1990', \n",
    "                                                                                      'units': '°C'})\n",
    "tas_intensity_df['region'] = tas_intensity_df['region'].assign_attrs({'description': 'Emitter regions (IN: India, CN: China)'})\n",
    "tas_intensity_df['group'] = tas_intensity_df['group'].assign_attrs({'description': 'Income groups (p90p100: top 10, p99p100: top 1)'})\n",
    "tas_intensity_df['model'] = tas_intensity_df['model'].assign_attrs({'description': 'CMIP6 model configuration from MESMER-M-TP'})\n",
    "tas_intensity_df['month'] = tas_intensity_df['month'].assign_attrs({'description': 'Impacts on heat events in specific months (0: January, 11: December)'})\n",
    "tas_intensity_df['extreme_quantile'] = tas_intensity_df['extreme_quantile'] .assign_attrs({'description': 'Event definition. (0.98: 1-in-50 year event, 0.99: 1-in-100 year event, 0.9999: 1-in-10000 year event)'})\n",
    "\n",
    "tas_intensity_df.to_netcdf(RESULTS_DIR / 'Publication' / 'Extremes' / 'tas_intensity_hot.nc')"
   ]
  },
  {
   "cell_type": "code",
   "execution_count": 13,
   "metadata": {},
   "outputs": [],
   "source": [
    "spei_intensity_df = xr.open_dataset(RESULTS_DIR / 'spei_intensity_dry.nc')\n",
    "spei_intensity_df['attributed_spei'] = spei_intensity_df['attributed_spei'].assign_attrs({'description': 'Intensity increase of drought events attributable to the emissions of specific emitter groups', \n",
    "                                                                                      'units': '°C'})\n",
    "spei_intensity_df['1990_spei'] = spei_intensity_df['1990_spei'].assign_attrs({'description': 'Intensity increase of heat events attributable to all cumulative emissions since 1990', \n",
    "                                                                                      'units': '°C'})\n",
    "spei_intensity_df['region'] = spei_intensity_df['region'].assign_attrs({'description': 'Emitter regions (IN: India, CN: China)'})\n",
    "spei_intensity_df['group'] = spei_intensity_df['group'].assign_attrs({'description': 'Income groups (p90p100: top 10, p99p100: top 1)'})\n",
    "spei_intensity_df['model'] = spei_intensity_df['model'].assign_attrs({'description': 'CMIP6 model configuration from MESMER-M-TP'})\n",
    "spei_intensity_df['month'] = spei_intensity_df['month'].assign_attrs({'description': 'Impacts on drought events in specific months (0: January, 11: December)'})\n",
    "spei_intensity_df['extreme_quantile'] = spei_intensity_df['extreme_quantile'].assign_attrs({'description': 'Event definition. (0.02: 1-in-50 year event, 0.01: 1-in-100 year event, 0.0001: 1-in-10000 year event)'})\n",
    "\n",
    "spei_intensity_df.to_netcdf(RESULTS_DIR / 'Publication' / 'Extremes' / 'spei_intensity_dry.nc')"
   ]
  }
 ],
 "metadata": {
  "kernelspec": {
   "display_name": "py39_mesmer-m",
   "language": "python",
   "name": "python3"
  },
  "language_info": {
   "codemirror_mode": {
    "name": "ipython",
    "version": 3
   },
   "file_extension": ".py",
   "mimetype": "text/x-python",
   "name": "python",
   "nbconvert_exporter": "python",
   "pygments_lexer": "ipython3",
   "version": "3.9.7"
  }
 },
 "nbformat": 4,
 "nbformat_minor": 2
}
