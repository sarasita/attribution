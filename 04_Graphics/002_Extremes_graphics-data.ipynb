{
 "cells": [
  {
   "cell_type": "code",
   "execution_count": 1,
   "metadata": {},
   "outputs": [],
   "source": [
    "import os\n",
    "os.chdir('/Users/schoens/Documents/PhD/IIASA/04_Code/income_decile')"
   ]
  },
  {
   "cell_type": "code",
   "execution_count": 2,
   "metadata": {},
   "outputs": [],
   "source": [
    "from pathlib import Path\n",
    "\n",
    "import pandas as pd \n",
    "import numpy as np\n",
    "import xarray as xr\n",
    "\n",
    "from tqdm.notebook import tqdm\n",
    "\n",
    "import config.config as cfg \n",
    "from config.config import (PROCESSED_GMT_FILE,\n",
    "                           GRAPHICS_DIR, GRAPHICS_PAPER_MAIN_DIR, GRAPHICS_PAPER_APPENDIX_DIR, \n",
    "                           RESULTS_DIR,\n",
    "                           )\n",
    "from utils.plotting_functions import lighten_color\n",
    "from utils.processing_functions import regional_data, abbrevs\n",
    "\n",
    "import regionmask \n",
    "ar6 = regionmask.defined_regions.ar6.land\n"
   ]
  },
  {
   "cell_type": "code",
   "execution_count": 3,
   "metadata": {},
   "outputs": [],
   "source": [
    "processed_extremes_frequency_df = pd.DataFrame(columns =  ['emitter_region', 'emitter_group', 'event_defintion', 'variable', 'month', 'impacted_region_id', 'impacted_region_abbrev', 'quantile', 'events'])\n",
    "\n",
    "var_names = ['tas', 'spei']\n",
    "var_property = 'frequency'\n",
    "for var_name in var_names: \n",
    "    if var_name == 'tas': \n",
    "        extreme_type = 'hot'\n",
    "    if var_name == 'spei':\n",
    "        extreme_type = 'dry'\n",
    "    df = xr.open_dataset(RESULTS_DIR / f'{var_name}_{var_property}_{extreme_type}.nc').stack(coords = ('lat', 'lon')).dropna('coords', how = 'all').isel(extreme_quantile = 1)\n",
    "    df_agg = regional_data(df).quantile(q = [0.05, 0.5, 0.95], dim = 'model')\n",
    "    del df \n",
    "    # additional events since 1990\n",
    "    df_tmp1 = df_agg[f'1990_{var_name}'].to_dataframe().reset_index().rename(columns = {'mask': 'impacted_region_id', f'1990_{var_name}': 'events'})\n",
    "    df_tmp1['emitter_region'] = 'World' \n",
    "    df_tmp1['emitter_group'] = 'all'\n",
    "    df_tmp1['event_defintion'] = '1-in-100'\n",
    "    df_tmp1['variable'] = var_name\n",
    "    df_tmp1['impacted_region_abbrev'] = df_tmp1['impacted_region_id'].apply(lambda x: abbrevs(x))\n",
    "    # additional attributable events since 1990 \n",
    "    df_tmp2 = df_agg[f'attributed_{var_name}'].to_dataframe().reset_index().rename(columns = {'mask': 'impacted_region_id', f'attributed_{var_name}': 'events', 'region': 'emitter_region', 'group': 'emitter_group'})\n",
    "    df_tmp2['event_defintion'] = '1-in-100'\n",
    "    df_tmp2['variable'] = var_name\n",
    "    df_tmp2['impacted_region_abbrev'] = df_tmp2['impacted_region_id'].apply(lambda x: abbrevs(x))\n",
    "\n",
    "    processed_extremes_frequency_df = pd.concat([processed_extremes_frequency_df, df_tmp1, df_tmp2], axis = 0, ignore_index = True)\n",
    "\n",
    "processed_extremes_frequency_df.to_csv(RESULTS_DIR / 'processed_extremes_frequency.csv', index = False)"
   ]
  },
  {
   "cell_type": "code",
   "execution_count": 4,
   "metadata": {},
   "outputs": [],
   "source": [
    "processed_extremes_intensity_df = pd.DataFrame(columns =  ['emitter_region', 'emitter_group', 'event_defintion', 'variable', 'month', 'impacted_region_id', 'impacted_region_abbrev', 'quantile', 'change'])\n",
    "\n",
    "var_names = ['tas', 'spei']\n",
    "var_property = 'intensity'\n",
    "for var_name in var_names: \n",
    "    if var_name == 'tas': \n",
    "        extreme_type = 'hot'\n",
    "    if var_name == 'spei':\n",
    "        extreme_type = 'dry'\n",
    "    df = xr.open_dataset(RESULTS_DIR / f'{var_name}_{var_property}_{extreme_type}.nc').stack(coords = ('lat', 'lon')).dropna('coords', how = 'all').isel(extreme_quantile = 1)\n",
    "    df_agg = regional_data(df).quantile(q = [0.05, 0.5, 0.95], dim = 'model')\n",
    "    del df \n",
    "    # additional events since 1990\n",
    "    df_tmp1 = df_agg[f'1990_{var_name}'].to_dataframe().reset_index().rename(columns = {'mask': 'impacted_region_id', f'1990_{var_name}': 'change'})\n",
    "    df_tmp1['emitter_region'] = 'World' \n",
    "    df_tmp1['emitter_group'] = 'all'\n",
    "    df_tmp1['event_defintion'] = '1-in-100'\n",
    "    df_tmp1['variable'] = var_name\n",
    "    df_tmp1['impacted_region_abbrev'] = df_tmp1['impacted_region_id'].apply(lambda x: abbrevs(x))\n",
    "    # additional attributable events since 1990 \n",
    "    df_tmp2 = df_agg[f'attributed_{var_name}'].to_dataframe().reset_index().rename(columns = {'mask': 'impacted_region_id', f'attributed_{var_name}': 'change', 'region': 'emitter_region', 'group': 'emitter_group'})\n",
    "    df_tmp2['event_defintion'] = '1-in-100'\n",
    "    df_tmp2['variable'] = var_name\n",
    "    df_tmp2['impacted_region_abbrev'] = df_tmp2['impacted_region_id'].apply(lambda x: abbrevs(x))\n",
    "\n",
    "    processed_extremes_intensity_df = pd.concat([processed_extremes_intensity_df, df_tmp1, df_tmp2], axis = 0, ignore_index = True)\n",
    "\n",
    "processed_extremes_intensity_df.to_csv(RESULTS_DIR / 'processed_extremes_intensity.csv', index = False)"
   ]
  }
 ],
 "metadata": {
  "kernelspec": {
   "display_name": "py39_mesmer-m",
   "language": "python",
   "name": "python3"
  },
  "language_info": {
   "codemirror_mode": {
    "name": "ipython",
    "version": 3
   },
   "file_extension": ".py",
   "mimetype": "text/x-python",
   "name": "python",
   "nbconvert_exporter": "python",
   "pygments_lexer": "ipython3",
   "version": "3.9.7"
  }
 },
 "nbformat": 4,
 "nbformat_minor": 2
}
