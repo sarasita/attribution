{
 "cells": [
  {
   "cell_type": "markdown",
   "metadata": {},
   "source": [
    "## 02 Table - Carbon Inequality"
   ]
  },
  {
   "cell_type": "code",
   "execution_count": 2,
   "metadata": {},
   "outputs": [],
   "source": [
    "import os\n",
    "os.chdir('/Users/schoens/Documents/PhD/IIASA/04_Code/income_decile')"
   ]
  },
  {
   "cell_type": "code",
   "execution_count": 3,
   "metadata": {},
   "outputs": [],
   "source": [
    "from pathlib import Path\n",
    "\n",
    "import pandas as pd \n",
    "import numpy as np\n",
    "import geopandas as gpd \n",
    "from shapely import box\n",
    "import pycountry\n",
    "\n",
    "from tqdm.notebook import tqdm\n",
    "\n",
    "import config.config as cfg \n",
    "from config.config import (SCALING_DATA_DIR,\n",
    "                           GRAPHICS_PAPER_APPENDIX_DIR, \n",
    "                           RESULTS_DIR,\n",
    "                           regions,\n",
    "                           region_naming_dict, \n",
    "                           population_shares, \n",
    "                           WID_DATA_PROCESSED\n",
    "                           )\n",
    "\n",
    "from tabulate import tabulate "
   ]
  },
  {
   "cell_type": "code",
   "execution_count": 4,
   "metadata": {},
   "outputs": [],
   "source": [
    "carbon_inequality_df = pd.DataFrame(columns = ['region', 'group',  'total_emission_share', 'equal_emission_share', 'percentage'])\n",
    "\n",
    "region_to_global_df = pd.read_csv(SCALING_DATA_DIR / 'region_to_global_scaling_coefficients.csv', sep = ';', index_col = 0).mean(axis = 0)\n",
    "\n",
    "within_region_df = pd.DataFrame(columns = ['p0p100', 'p0p50', 'p50p90', 'p90p100', 'p99p100', 'p999p100'], \n",
    "                                index = ['World'] + regions)\n",
    "\n",
    "for region in ['World'] + regions:\n",
    "    within_region_df.loc[region] = pd.read_csv(SCALING_DATA_DIR / 'within_countries' / f'{region}_scaling.csv', index_col = 0).iloc[:, 1:].mean(axis = 0).loc[within_region_df.columns]"
   ]
  },
  {
   "cell_type": "code",
   "execution_count": 5,
   "metadata": {},
   "outputs": [],
   "source": [
    "results_df = pd.DataFrame(columns = ['region', 'group', 'total_emission_share', 'equal_emission_share', 'percentage'])\n",
    "group_names = ['all', 'bottom 50', 'middle 40', 'top 10', 'top 1', 'top 0.1']\n",
    "population_shares_all = [1] + population_shares\n",
    "group_sizes = [1, 0.5, 0.4, 0.1, 0.01, 0.001]\n",
    "counter = 0\n",
    "for i_region, region in enumerate(['World'] + regions):\n",
    "    for i_group, group in enumerate(['p0p100', 'p0p50', 'p50p90', 'p90p100', 'p99p100', 'p999p100']):\n",
    "        total_emission_share = region_to_global_df.loc[region] * within_region_df.loc[region, group]\n",
    "        equal_emission_share = region_to_global_df.loc['World'] * population_shares_all[i_region] * group_sizes[i_group]\n",
    "        percentage = total_emission_share / equal_emission_share\n",
    "        results_df.loc[counter,:] = [region, group_names[i_group], total_emission_share, equal_emission_share, percentage]\n",
    "        counter += 1\n",
    "results_df.index = results_df.region\n",
    "results_df = results_df.drop(columns = 'region')\n",
    "\n",
    "results_df.to_csv(RESULTS_DIR / 'carbon_inequality.csv')"
   ]
  },
  {
   "cell_type": "code",
   "execution_count": 45,
   "metadata": {},
   "outputs": [],
   "source": [
    "Path(GRAPHICS_PAPER_APPENDIX_DIR / 'tables').mkdir(parents=True, exist_ok=True)\n",
    "\n",
    "tmp_df = results_df.copy()\n",
    "tmp_df.iloc[:, 1:] = (tmp_df.iloc[:, 1:].astype(float)*100).round(decimals = 2).copy()\n",
    "\n",
    "with open(GRAPHICS_PAPER_APPENDIX_DIR / 'tables' / 'Carbon_Inequality.txt', 'w') as f:\n",
    "    f.write(tabulate(tmp_df, tablefmt='latex'))"
   ]
  }
 ],
 "metadata": {
  "kernelspec": {
   "display_name": "py39_mesmer-m",
   "language": "python",
   "name": "python3"
  },
  "language_info": {
   "codemirror_mode": {
    "name": "ipython",
    "version": 3
   },
   "file_extension": ".py",
   "mimetype": "text/x-python",
   "name": "python",
   "nbconvert_exporter": "python",
   "pygments_lexer": "ipython3",
   "version": "3.9.7"
  }
 },
 "nbformat": 4,
 "nbformat_minor": 2
}
